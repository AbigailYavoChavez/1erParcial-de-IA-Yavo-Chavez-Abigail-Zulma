{
  "nbformat": 4,
  "nbformat_minor": 0,
  "metadata": {
    "colab": {
      "provenance": []
    },
    "kernelspec": {
      "name": "python3",
      "display_name": "Python 3"
    },
    "language_info": {
      "name": "python"
    }
  },
  "cells": [
    {
      "cell_type": "markdown",
      "source": [
        "1er ejercicio numero de dataset 62\n",
        "El nombre del dataset es Dataset for Link Phishing Detection\n",
        "https://www.kaggle.com/datasets/winson13/dataset-for-link-phishing-detection/\n",
        "Este dataset trata de indentificar si un URL es del tipo phishing o no dandonos a entender que es un dataset con una variable \"Y\" de dos tipos (legitimate o\n",
        "phishing)\n",
        "Sus variables de entrada son X (COLUNMA 3 AL 86) se desprecian las dos primeras colunmas por que contribuyen a la determinación de la Y.\n",
        "y la entrada de la Y vendria a ser la (colunma 87).\n",
        "Es un dataset de Regresión Logística o también llamada Clasificación.\n",
        "\n"
      ],
      "metadata": {
        "id": "XDpveoGRysMd"
      }
    },
    {
      "cell_type": "code",
      "execution_count": null,
      "metadata": {
        "id": "Ugf0xPesx7eB"
      },
      "outputs": [],
      "source": [
        "import numpy as np\n",
        "import pandas as pd\n",
        "from google.colab import drive\n",
        "from matplotlib import pyplot\n",
        "from scipy import optimize\n",
        "%matplotlib inline"
      ]
    },
    {
      "cell_type": "markdown",
      "source": [
        "*En* este primer bloque de código, se importan las librerías necesarias para la realización del modelo."
      ],
      "metadata": {
        "id": "hzzGSl_bGxVq"
      }
    },
    {
      "cell_type": "code",
      "source": [
        "drive.mount(\"/content/drive\")"
      ],
      "metadata": {
        "colab": {
          "base_uri": "https://localhost:8080/"
        },
        "id": "xZxp5fM02zii",
        "outputId": "fb0ab44b-0867-4ed3-d251-7e3a8b16fa9d"
      },
      "execution_count": null,
      "outputs": [
        {
          "output_type": "stream",
          "name": "stdout",
          "text": [
            "Mounted at /content/drive\n"
          ]
        }
      ]
    },
    {
      "cell_type": "markdown",
      "source": [
        "AquÍ fue lo que hizo fue importacion de los dataset en el drive"
      ],
      "metadata": {
        "id": "_8IrQLxUGylJ"
      }
    },
    {
      "cell_type": "code",
      "source": [
        "data = pd.read_csv(\"/content/drive/MyDrive/Dataset Machine learning/dataset_link_phishing.csv\")\n",
        "data = np.array(data)\n",
        "x = np.column_stack((data[:,2:77],data[:,79:86]))\n",
        "y = data[:,86]\n",
        "m_ejemplos = y.size\n",
        "print(x)\n",
        "print(y)"
      ],
      "metadata": {
        "colab": {
          "base_uri": "https://localhost:8080/"
        },
        "id": "ZnLOtxkE269g",
        "outputId": "51744d91-315f-4cc9-d5ba-72f11b64c2b5"
      },
      "execution_count": null,
      "outputs": [
        {
          "output_type": "stream",
          "name": "stdout",
          "text": [
            "[[46 20 0 ... 0 0 5]\n",
            " [128 120 0 ... 0 1 0]\n",
            " [52 25 0 ... 0 1 0]\n",
            " ...\n",
            " [105 16 1 ... 0 1 10]\n",
            " [38 30 1 ... 0 0 4]\n",
            " [477 14 1 ... 1 1 0]]\n",
            "['phishing' 'phishing' 'phishing' ... 'legitimate' 'legitimate' 'phishing']\n"
          ]
        },
        {
          "output_type": "stream",
          "name": "stderr",
          "text": [
            "<ipython-input-4-bcca85dbdeab>:1: DtypeWarning: Columns (78) have mixed types. Specify dtype option on import or set low_memory=False.\n",
            "  data = pd.read_csv(\"/content/drive/MyDrive/Dataset Machine learning/dataset_link_phishing.csv\")\n"
          ]
        }
      ]
    },
    {
      "cell_type": "markdown",
      "source": [
        "Se importo la ruta de los dataset. Donde el array viene a ser lista de datos donde se va a convertir un vector. donde las variables de \"x\" viene a ser los numeros de caracteristicas en un rango donde el numero 86 es el limite y la variable \"y\" vendria a ser lo ejemplos del dataset."
      ],
      "metadata": {
        "id": "a67TVJnwG4cx"
      }
    },
    {
      "cell_type": "code",
      "source": [
        "def ReemplazarValores():\n",
        "  for i in range(x.shape[0]):\n",
        "    if(y[i]==\"legitimate\"):\n",
        "       y[i]=0\n",
        "    if(y[i]==\"phishing\"):\n",
        "       y[i]=1\n"
      ],
      "metadata": {
        "id": "Bxgrnfey-gjF"
      },
      "execution_count": null,
      "outputs": []
    },
    {
      "cell_type": "code",
      "source": [
        "y.shape"
      ],
      "metadata": {
        "colab": {
          "base_uri": "https://localhost:8080/"
        },
        "id": "nWEd_fZ0BtmT",
        "outputId": "2c17a6b7-5f60-4b6e-c941-ecad5a871aeb"
      },
      "execution_count": null,
      "outputs": [
        {
          "output_type": "execute_result",
          "data": {
            "text/plain": [
              "(19431,)"
            ]
          },
          "metadata": {},
          "execution_count": 6
        }
      ]
    },
    {
      "cell_type": "code",
      "source": [
        "ReemplazarValores()"
      ],
      "metadata": {
        "id": "0bM7mRRZApA0"
      },
      "execution_count": null,
      "outputs": []
    },
    {
      "cell_type": "markdown",
      "source": [
        "Se cambian los valores literales a numéricos con una función de reemplazar valores, esencialmente los de la variable Y en dos valores, pues es un dataset de clasificación binaria o logística"
      ],
      "metadata": {
        "id": "8iDFjJSIMuYw"
      }
    },
    {
      "cell_type": "code",
      "source": [
        "print (y)"
      ],
      "metadata": {
        "colab": {
          "base_uri": "https://localhost:8080/"
        },
        "id": "n4SkSPDdCmG6",
        "outputId": "4d11f8c4-54f5-409c-9247-8a215ad3fd8a"
      },
      "execution_count": null,
      "outputs": [
        {
          "output_type": "stream",
          "name": "stdout",
          "text": [
            "[1 1 1 ... 0 0 1]\n"
          ]
        }
      ]
    },
    {
      "cell_type": "code",
      "source": [
        "def plotData(x,y):\n",
        "  fig = pyplot.figure()\n",
        "  pos = y == 1\n",
        "  neg = y == 0\n",
        "  pyplot.plot(x[pos, 0], x[pos, 1], 'k*', lw=2, ms=10)\n",
        "  pyplot.plot(x[neg, 0], x[neg, 1], 'ko', mfc='y', ms=8, mec='k', mew=1)"
      ],
      "metadata": {
        "id": "LAGzTtcuCs-j"
      },
      "execution_count": null,
      "outputs": []
    },
    {
      "cell_type": "code",
      "source": [
        "plotData(x, y)\n",
        "pyplot.xlabel('Indicios de fraude')\n",
        "pyplot.ylabel('Clase')\n",
        "pyplot.legend(['Fraudulento', 'No Fraudulento'])\n",
        "pass"
      ],
      "metadata": {
        "colab": {
          "base_uri": "https://localhost:8080/",
          "height": 449
        },
        "id": "k_y8_GZ2Czga",
        "outputId": "3f6bdfb6-621c-4529-fe88-a7654f03974d"
      },
      "execution_count": null,
      "outputs": [
        {
          "output_type": "display_data",
          "data": {
            "text/plain": [
              "<Figure size 640x480 with 1 Axes>"
            ],
            "image/png": "[encoded data removed]"
          },
          "metadata": {}
        }
      ]
    },
    {
      "cell_type": "markdown",
      "source": [
        "Se grafican los datos en dos grupos"
      ],
      "metadata": {
        "id": "MUFDnvL5NPon"
      }
    },
    {
      "cell_type": "code",
      "source": [
        "def funcionSigmoidea(z):\n",
        "  z = np.array(z)\n",
        "  z = float()\n",
        "  g = 1/(1+np.exp(-z))\n",
        "  return g"
      ],
      "metadata": {
        "id": "bTLDXqfdC1wa"
      },
      "execution_count": null,
      "outputs": []
    },
    {
      "cell_type": "code",
      "source": [
        "def normalizarX(x):\n",
        "  x_normalizada = []\n",
        "  promedio = np.mean(x,axis=0)\n",
        "  x = x.astype(float)\n",
        "  desviacion_estandar = np.std(x,axis=0)\n",
        "  for i in range(m_ejemplos):\n",
        "    caracteristicas_x = []\n",
        "    for j in range(x.shape[1]):\n",
        "      if desviacion_estandar[j] != 0:\n",
        "        caracteristicas_x.append((x[i,j]-promedio[j])/desviacion_estandar[j])\n",
        "      else:\n",
        "        caracteristicas_x.append(0)\n",
        "    x_normalizada.append(caracteristicas_x)\n",
        "  return x_normalizada, promedio, desviacion_estandar"
      ],
      "metadata": {
        "id": "lwLNU5eoC-Xy"
      },
      "execution_count": null,
      "outputs": []
    },
    {
      "cell_type": "markdown",
      "source": [
        "Se normalizan los datos y se define la función sigmoide"
      ],
      "metadata": {
        "id": "U_7FSV9cNvP1"
      }
    },
    {
      "cell_type": "code",
      "source": [
        "x_normalizada, promedio, desviacion_estandar = normalizarX(x)\n",
        "x_normalizada = np.array(x_normalizada)\n",
        "x = np.concatenate((np.ones((m_ejemplos,1)),x_normalizada),axis=1)"
      ],
      "metadata": {
        "id": "rXvQzh10DMcZ"
      },
      "execution_count": null,
      "outputs": []
    },
    {
      "cell_type": "code",
      "source": [
        "def calcularCosto(x, y, theta):\n",
        "  J = 0\n",
        "  hipotesis = funcionSigmoidea(x.dot(theta.T))\n",
        "  J = (1 / m_ejemplos) * np.sum(-y.dot(np.log(hipotesis)) - (1 - y).dot(np.log(1 - hipotesis)))\n",
        "\n",
        "  return J"
      ],
      "metadata": {
        "id": "uliNPDh5FF4S"
      },
      "execution_count": null,
      "outputs": []
    },
    {
      "cell_type": "code",
      "source": [
        "def descensoGradiente(x,y,theta,alpha,n_iteraciones):\n",
        "  historial_J = []\n",
        "  theta = theta.copy()\n",
        "  for i in range(n_iteraciones):\n",
        "    hipotesis = funcionSigmoidea(x.dot(theta.T))\n",
        "    theta = theta-(alpha/m_ejemplos)*(hipotesis-y).dot(x)\n",
        "    historial_J.append(calcularCosto(x,y,theta))\n",
        "\n",
        "  return theta, historial_J"
      ],
      "metadata": {
        "id": "Vuj4peNcFHKQ"
      },
      "execution_count": null,
      "outputs": []
    },
    {
      "cell_type": "code",
      "source": [
        "def hallarTheta():\n",
        "  theta = np.zeros(x.shape[1])\n",
        "  n_iteraciones = 1000\n",
        "  alpha = 0.01\n",
        "  theta, historial_J = descensoGradiente(x,y,theta,alpha,n_iteraciones)\n",
        "  return theta, historial_J"
      ],
      "metadata": {
        "id": "MVUWoaSFFKUq"
      },
      "execution_count": null,
      "outputs": []
    },
    {
      "cell_type": "code",
      "source": [
        "theta, historial_J = hallarTheta()\n",
        "print(\"Las thetas encontradas son: \",theta)\n",
        "print(\"El menor costo que se pudo determinar fue de: \",historial_J[-1])"
      ],
      "metadata": {
        "colab": {
          "base_uri": "https://localhost:8080/"
        },
        "id": "0sqZBIxTFMx4",
        "outputId": "a77c1689-f47d-4d47-c59b-a4f65a8736c7"
      },
      "execution_count": null,
      "outputs": [
        {
          "output_type": "stream",
          "name": "stdout",
          "text": [
            "Las thetas encontradas son:  [-0.0002573207760794583 1.2217419987126972 1.2034052877903008\n",
            " 0.4916742647265581 1.0265095211469093 -0.5142465363755072\n",
            " 0.7049333109025905 1.4695982689121168 0.8554028764704649\n",
            " 1.1652385199703967 0.20913761077240342 0.13998139129605058\n",
            " 0.13594849701776748 1.2044622755584118 0.13426577002092785\n",
            " 0.4649987797094054 0.05291786207920775 0.5169101765974353\n",
            " 0.11561557086502068 -2.2228072213465686 0.7810359762949663\n",
            " 0.3591206056604616 0.5756608288201399 1.7829358897688028\n",
            " 1.1259751816663452 0.09492312769188616 0.04332127787811341\n",
            " 0.41293715924230157 1.0401724825477363 0.6406968175135443\n",
            " 0.5585792784168463 1.046544268178302 0.09795160928102621\n",
            " 0.5056743635152189 -0.020707528731131318 -0.10846304894463915\n",
            " 0.28744262153889766 0.9515369479341506 0.060689188287778674\n",
            " -0.17957573742202518 1.1264912205949074 0.38185650127931414\n",
            " 1.0123310865546504 0.6335946905261515 1.0726270383062473\n",
            " 0.8441222964467028 0.9798784381001894 0.9881497105772518\n",
            " 1.6864332158699826 -0.4932925220680452 0.3235149681780463\n",
            " 0.3322679836732153 0.565701818725774 0.7351933045769045\n",
            " -1.7064753973100004 -1.2134493221930485 0.41356840703780723 0.0\n",
            " -0.43005253764253976 0.0 -0.7523397221382494 0.0 -0.163979907463696\n",
            " -0.08843155830827425 -0.7351682068274791 -0.9205456027882332 0.0\n",
            " -0.9702520730289426 -0.7099355273968727 0.0 -0.05237696032107944\n",
            " -0.2869271055501108 -0.8647486805517448 -0.06734433705827318\n",
            " 0.006917442161204671 1.021673932911053 0.3386412666887396\n",
            " -0.8036843817850958 -1.6629309649158728 0.3026543207082496\n",
            " 0.6181720266738706 3.6534188317029117 -2.5488064208523142]\n",
            "El menor costo que se pudo determinar fue de:  0.6931471805600852\n"
          ]
        }
      ]
    },
    {
      "cell_type": "code",
      "source": [
        "pyplot.plot(np.arange(len(historial_J)), historial_J, lw=2)\n",
        "pyplot.xlabel('Numero de iteraciones')\n",
        "pyplot.ylabel('Costo J')"
      ],
      "metadata": {
        "colab": {
          "base_uri": "https://localhost:8080/",
          "height": 466
        },
        "id": "4qU21MbO_Bwu",
        "outputId": "85598b88-7cc2-4462-eac5-30a7828eeb7c"
      },
      "execution_count": null,
      "outputs": [
        {
          "output_type": "execute_result",
          "data": {
            "text/plain": [
              "Text(0, 0.5, 'Costo J')"
            ]
          },
          "metadata": {},
          "execution_count": 20
        },
        {
          "output_type": "display_data",
          "data": {
            "text/plain": [
              "<Figure size 640x480 with 1 Axes>"
            ],
            "image/png": "[encoded data removed]"
          },
          "metadata": {}
        }
      ]
    },
    {
      "cell_type": "code",
      "source": [
        "def predecir(theta):\n",
        "  y_predecir = np.column_stack((data[15000:,2:77],data[15000:,79:86]))\n",
        "  m_predecir = y_predecir.shape[0]\n",
        "  columna_zeros = np.zeros((m_predecir,1))\n",
        "  y_predecir = np.append(columna_zeros,y_predecir,axis = 1)\n",
        "  p = np.round(funcionSigmoidea(y_predecir.dot(theta.T)))\n",
        "  return p"
      ],
      "metadata": {
        "id": "J81JR-OOF0sh"
      },
      "execution_count": null,
      "outputs": []
    },
    {
      "cell_type": "code",
      "source": [
        "p = predecir(theta)\n",
        "y_predecir = data[15000:,86]\n",
        "print('Precisión de entrenamiento: {:.2f} %'.format(np.mean(p==y_predecir) * 100))"
      ],
      "metadata": {
        "colab": {
          "base_uri": "https://localhost:8080/"
        },
        "id": "-Sq5t6E8F34S",
        "outputId": "d6bb1580-a030-465e-d126-e03622bb37c4"
      },
      "execution_count": null,
      "outputs": [
        {
          "output_type": "stream",
          "name": "stdout",
          "text": [
            "Precisión de entrenamiento: 50.21 %\n"
          ]
        }
      ]
    }
  ]
}